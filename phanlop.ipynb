{
 "cells": [
  {
   "cell_type": "code",
   "execution_count": 10,
   "metadata": {},
   "outputs": [],
   "source": [
    "\n"
   ]
  },
  {
   "cell_type": "code",
   "execution_count": 9,
   "metadata": {},
   "outputs": [
    {
     "ename": "ModuleNotFoundError",
     "evalue": "No module named 'c45'",
     "output_type": "error",
     "traceback": [
      "\u001b[1;31m---------------------------------------------------------------------------\u001b[0m",
      "\u001b[1;31mModuleNotFoundError\u001b[0m                       Traceback (most recent call last)",
      "\u001b[1;32m<ipython-input-9-e6f24cf1eb0a>\u001b[0m in \u001b[0;36m<module>\u001b[1;34m\u001b[0m\n\u001b[0;32m      1\u001b[0m \u001b[1;32mimport\u001b[0m \u001b[0mpdb\u001b[0m\u001b[1;33m\u001b[0m\u001b[1;33m\u001b[0m\u001b[0m\n\u001b[1;32m----> 2\u001b[1;33m \u001b[1;32mfrom\u001b[0m \u001b[0mc45\u001b[0m \u001b[1;32mimport\u001b[0m \u001b[0mC45\u001b[0m\u001b[1;33m\u001b[0m\u001b[1;33m\u001b[0m\u001b[0m\n\u001b[0m\u001b[0;32m      3\u001b[0m \u001b[1;33m\u001b[0m\u001b[0m\n\u001b[0;32m      4\u001b[0m \u001b[1;31m# khởi tạo cây quyết định bằng thuật toán ID3\u001b[0m\u001b[1;33m\u001b[0m\u001b[1;33m\u001b[0m\u001b[1;33m\u001b[0m\u001b[0m\n\u001b[0;32m      5\u001b[0m \u001b[0mc1\u001b[0m \u001b[1;33m=\u001b[0m \u001b[0mC45\u001b[0m\u001b[1;33m(\u001b[0m\u001b[1;34m\"data/zoolien.csv\"\u001b[0m\u001b[1;33m,\u001b[0m \u001b[1;34m\"data/metadatalien.csv\"\u001b[0m\u001b[1;33m)\u001b[0m\u001b[1;33m\u001b[0m\u001b[1;33m\u001b[0m\u001b[0m\n",
      "\u001b[1;31mModuleNotFoundError\u001b[0m: No module named 'c45'"
     ]
    }
   ],
   "source": [
    "import pdb\n",
    "from c45 import C45\n",
    "\n",
    "# khởi tạo cây quyết định bằng thuật toán ID3\n",
    "c1 = C45(\"data/zoolien.csv\", \"data/metadatalien.csv\")\n",
    "\n",
    "# Đọc dữ liệu\n",
    "c1.fetchData()\n",
    "\n",
    "# Tiền xử lý dữ liệu\n",
    "c1.preprocessData()\n",
    "\n",
    "# sinh cây quyết định\n",
    "c1.generateTree()\n",
    "\n",
    "# In cây quyết định\n",
    "c1.printTree()\n",
    "print(\"_______________\")\n",
    "print(\"result: \")\n",
    "# Dự đoán kết quả cây\n",
    "\n",
    "data = [line.rstrip('\\n') for line in open('data/testzoo.csv')]\n",
    "\n",
    "X = []\n",
    "y = []\n",
    "for line in data:\n",
    "\tline= line.split(\",\")\n",
    "\tX.append(line[:-1])\n",
    "\ty.append(line[-1])\n",
    "\n",
    "\n",
    "c1.metric(X,y)\t"
   ]
  },
  {
   "cell_type": "code",
   "execution_count": null,
   "metadata": {},
   "outputs": [],
   "source": []
  }
 ],
 "metadata": {
  "kernelspec": {
   "display_name": "Python 3",
   "language": "python",
   "name": "python3"
  },
  "language_info": {
   "codemirror_mode": {
    "name": "ipython",
    "version": 3
   },
   "file_extension": ".py",
   "mimetype": "text/x-python",
   "name": "python",
   "nbconvert_exporter": "python",
   "pygments_lexer": "ipython3",
   "version": "3.7.3"
  }
 },
 "nbformat": 4,
 "nbformat_minor": 2
}
